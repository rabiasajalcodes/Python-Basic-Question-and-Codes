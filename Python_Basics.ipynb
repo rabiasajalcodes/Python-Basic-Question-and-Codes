{
  "nbformat": 4,
  "nbformat_minor": 0,
  "metadata": {
    "colab": {
      "provenance": []
    },
    "kernelspec": {
      "name": "python3",
      "display_name": "Python 3"
    },
    "language_info": {
      "name": "python"
    }
  },
  "cells": [
    {
      "cell_type": "code",
      "execution_count": null,
      "metadata": {
        "id": "T_O7lTVpKpqm"
      },
      "outputs": [],
      "source": []
    },
    {
      "cell_type": "markdown",
      "source": [
        "Question 1\n",
        "Write a function that reverses a string. The input string is given as an array\n",
        "of characters. You can use Python list to create the array of characters. Do\n",
        "not allocate extra space for another array, you must do this reversal by\n",
        "modifying the input array in- place with O(1) extra memory.\n",
        "Example 1:\n",
        "Input: [&quot;h&quot;,&quot;e&quot;,&quot;l&quot;,&quot;l&quot;,&quot;o&quot;]\n",
        "Output: [&quot;o&quot;,&quot;l&quot;,&quot;l&quot;,&quot;e&quot;,&quot;h&quot;]\n",
        "Example 2:\n",
        "Input: [&quot;H&quot;,&quot;a&quot;,&quot;n&quot;,&quot;n&quot;,&quot;a&quot;,&quot;h&quot;]\n",
        "Output: [&quot;h&quot;,&quot;a&quot;,&quot;n&quot;,&quot;n&quot;,&quot;a&quot;,&quot;H&quot;]\n"
      ],
      "metadata": {
        "id": "_BcHvcuJKzLZ"
      }
    },
    {
      "cell_type": "code",
      "source": [
        "def reverse_string(s):\n",
        "    left, right = 0, len(s) - 1\n",
        "    while left < right:\n",
        "        s[left], s[right] = s[right], s[left]  # Swap characters\n",
        "        left += 1\n",
        "        right -= 1\n",
        "\n",
        "\n",
        "s1 = [\"h\", \"e\", \"l\", \"l\", \"o\"]\n",
        "reverse_string(s1)\n",
        "print(s1)"
      ],
      "metadata": {
        "colab": {
          "base_uri": "https://localhost:8080/"
        },
        "id": "Q_hYCkVmK5fN",
        "outputId": "fe1b0c0f-7349-436b-872d-4271042ac596"
      },
      "execution_count": null,
      "outputs": [
        {
          "output_type": "stream",
          "name": "stdout",
          "text": [
            "['o', 'l', 'l', 'e', 'h']\n"
          ]
        }
      ]
    },
    {
      "cell_type": "markdown",
      "source": [
        "Question 2\n",
        "Given a strings, determine if it is a palindrome, considering only\n",
        "alphanumeric characters and ignoring cases. Refer to this link to learn\n",
        "about Python string functions which might come handy in this task.\n",
        "Example 1:\n",
        "Input: s = &quot;A man, a plan, a canal:\n",
        "Panama&quot; Output: true\n",
        "Explanation: &quot;amanaplanacanalpanama&quot; is a palindrome.\n",
        "Example 2\n",
        "Input: s = &quot;race\n",
        "a car&quot; Output:\n",
        "false\n",
        "Explanation: &quot;raceacar&quot; is not a palindrome."
      ],
      "metadata": {
        "id": "P-VKcdNaLFLW"
      }
    },
    {
      "cell_type": "code",
      "source": [
        "import re\n",
        "\n",
        "def is_palindrome(s):\n",
        "\n",
        "    s = re.sub(r'[^a-zA-Z0-9]', '', s).lower()\n",
        "\n",
        "\n",
        "    left, right = 0, len(s) - 1\n",
        "    while left < right:\n",
        "        if s[left] != s[right]:\n",
        "            return False\n",
        "        left += 1\n",
        "        right -= 1\n",
        "    return True\n",
        "\n",
        "s1 = \"A man, a plan, a canal: Panama\"\n",
        "print(is_palindrome(s1))\n"
      ],
      "metadata": {
        "colab": {
          "base_uri": "https://localhost:8080/"
        },
        "id": "WDHZIUdNLIki",
        "outputId": "0f7194ec-18ca-4fc1-a641-c06443c69ead"
      },
      "execution_count": null,
      "outputs": [
        {
          "output_type": "stream",
          "name": "stdout",
          "text": [
            "True\n"
          ]
        }
      ]
    },
    {
      "cell_type": "markdown",
      "source": [
        "Question 3\n",
        "Given a non-negative integer x, compute and return the square root of x.\n",
        "Since the return type is an integer, the decimal digits are truncated, and only\n",
        "the integer part of the result is returned.\n",
        "Example 1:\n",
        "Input:\n",
        "x = 4\n",
        "Out\n",
        "put:\n",
        "2\n",
        "Example 2:\n",
        "Input:\n",
        "x = 8\n",
        "Out\n",
        "put:\n",
        "2\n",
        "Explanation: The square root of 8 is 2.82842…, and since the decimal part is\n",
        "truncated, 2 is returned."
      ],
      "metadata": {
        "id": "aoWvMO9hLY3Y"
      }
    },
    {
      "cell_type": "code",
      "source": [
        "def my_sqrt(x):\n",
        "    if x == 0 or x == 1:\n",
        "        return x\n",
        "\n",
        "    left, right = 1, x\n",
        "    result = 0\n",
        "\n",
        "    while left <= right:\n",
        "        mid = (left + right) // 2\n",
        "        if mid * mid == x:\n",
        "            return mid\n",
        "        elif mid * mid < x:\n",
        "            result = mid\n",
        "            left = mid + 1\n",
        "        else:\n",
        "            right = mid - 1\n",
        "\n",
        "    return result\n",
        "\n",
        "print(my_sqrt(16))\n",
        "\n"
      ],
      "metadata": {
        "colab": {
          "base_uri": "https://localhost:8080/"
        },
        "id": "2yvRB1jmLb9_",
        "outputId": "8e719b59-78e6-4740-c068-8b525b7e164d"
      },
      "execution_count": null,
      "outputs": [
        {
          "output_type": "stream",
          "name": "stdout",
          "text": [
            "4\n"
          ]
        }
      ]
    }
  ]
}